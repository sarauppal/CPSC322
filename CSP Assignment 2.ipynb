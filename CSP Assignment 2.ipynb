{
 "cells": [
  {
   "cell_type": "code",
   "execution_count": 51,
   "metadata": {},
   "outputs": [],
   "source": [
    "from abc import ABC, abstractmethod\n",
    "from typing import Generic, TypeVar, List, Dict"
   ]
  },
  {
   "cell_type": "code",
   "execution_count": 50,
   "metadata": {},
   "outputs": [],
   "source": [
    "V=TypeVar('V') #type for variables\n",
    "D=TypeVar('D') #type for domains"
   ]
  },
  {
   "cell_type": "code",
   "execution_count": 52,
   "metadata": {},
   "outputs": [
    {
     "data": {
      "text/plain": [
       "typing.Generic[~V, ~D]"
      ]
     },
     "execution_count": 52,
     "metadata": {},
     "output_type": "execute_result"
    }
   ],
   "source": [
    "Generic[V,D]"
   ]
  },
  {
   "cell_type": "code",
   "execution_count": 53,
   "metadata": {},
   "outputs": [],
   "source": [
    "\n",
    "class Constraint(Generic[V,D]):\n",
    "    \"\"\"This is the class for checking contraint satisfaction\"\"\"\n",
    "    def __init__(self,variables: List[V]) -> None:\n",
    "        self.variables= variables\n",
    "\n",
    "    def satisfied(self, assignment: Dict[V, D]) -> bool:\n",
    "         ...\n",
    "        \n",
    "        "
   ]
  },
  {
   "cell_type": "code",
   "execution_count": 58,
   "metadata": {},
   "outputs": [],
   "source": [
    "class CSP(Generic[Variables,Domains]):\n",
    "    def __init__(self, variables: List[V], domains: Dict[V,List[D]]) ->None:\n",
    "        self.variables : List[V] = variables\n",
    "        self.domains : Dict[V,List[D]] = domains\n",
    "        self.constraints : Dict[V,List[Constraints[V,D]]] ={}\n",
    "        for variable in self.variables:\n",
    "            self.constraints[variable]=[]  #initialize constraints for every variable as an empty dict\n",
    "            if variable not in self.domains:\n",
    "                raise LookupError(\"All variables must have a domain\")\n",
    "                \n",
    "    def add_constraint(self,constraint:Constraint[V,D]) -> None:\n",
    "        for variable in constraint.variables:\n",
    "            if variable not in self.variables:      \n",
    "                #goes through all the variables in given constraint, \n",
    "                #makes sure they exist\n",
    "                #in CSP and then adds them to the constraints dict\n",
    "                raise LookupError(\"Variable not included while instantiating CSP\")\n",
    "            else:\n",
    "                self.constaints[variable].append(constraint)\n",
    "                \n",
    "    def consistent(self,variable: V, assignment: Dict[V,D]) -> bool:\n",
    "        for constraint in self.constraints[variable]:\n",
    "            if not constraint.satisfied(assignment):          #goes through the list of constraints for the variable\n",
    "                                                              #given to it and checks consistency\n",
    "                return False\n",
    "        return True                                #returns true if every constraint for that variable is satisfied\n",
    "                \n",
    "            "
   ]
  },
  {
   "cell_type": "code",
   "execution_count": null,
   "metadata": {},
   "outputs": [],
   "source": []
  }
 ],
 "metadata": {
  "kernelspec": {
   "display_name": "Python 3",
   "language": "python",
   "name": "python3"
  },
  "language_info": {
   "codemirror_mode": {
    "name": "ipython",
    "version": 3
   },
   "file_extension": ".py",
   "mimetype": "text/x-python",
   "name": "python",
   "nbconvert_exporter": "python",
   "pygments_lexer": "ipython3",
   "version": "3.7.3"
  }
 },
 "nbformat": 4,
 "nbformat_minor": 2
}
